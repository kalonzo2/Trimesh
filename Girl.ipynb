{
 "cells": [
  {
   "cell_type": "code",
   "execution_count": 2,
   "id": "c31cb4ae-c009-4619-82c6-cd61e3748964",
   "metadata": {},
   "outputs": [
    {
     "name": "stdout",
     "output_type": "stream",
     "text": [
      "[main 13bd42e] Primer commit desde Jupyter\n",
      " 4 files changed, 101 deletions(-)\n",
      " create mode 100644 .ipynb_checkpoints/untitled-checkpoint.py\n",
      " delete mode 100644 Untitled.ipynb\n",
      " delete mode 100644 persona_con_nariz.glb\n",
      " delete mode 100644 personaje.glb\n",
      "Enumerating objects: 5, done.\n",
      "Counting objects: 100% (5/5), done.\n",
      "Delta compression using up to 2 threads\n",
      "Compressing objects: 100% (3/3), done.\n",
      "Writing objects: 100% (3/3), 388 bytes | 388.00 KiB/s, done.\n",
      "Total 3 (delta 1), reused 0 (delta 0), pack-reused 0 (from 0)\n",
      "remote: Resolving deltas: 100% (1/1), completed with 1 local object.\u001b[K\n",
      "To https://github.com/kalonzo2/Trimesh.git\n",
      "   b2ff878..13bd42e  main -> main\n",
      "branch 'main' set up to track 'origin/main'.\n"
     ]
    }
   ],
   "source": [
    "!git add .\n",
    "!git commit -m \"Primer commit desde Jupyter\"\n",
    "!git push -u origin main  # o master, según tu rama"
   ]
  },
  {
   "cell_type": "code",
   "execution_count": null,
   "id": "50487d7e-f30c-420f-b597-442e5220979a",
   "metadata": {},
   "outputs": [],
   "source": []
  }
 ],
 "metadata": {
  "kernelspec": {
   "display_name": "Python 3 (ipykernel)",
   "language": "python",
   "name": "python3"
  },
  "language_info": {
   "codemirror_mode": {
    "name": "ipython",
    "version": 3
   },
   "file_extension": ".py",
   "mimetype": "text/x-python",
   "name": "python",
   "nbconvert_exporter": "python",
   "pygments_lexer": "ipython3",
   "version": "3.12.1"
  }
 },
 "nbformat": 4,
 "nbformat_minor": 5
}
