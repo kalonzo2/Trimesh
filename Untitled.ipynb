{
 "cells": [
  {
   "cell_type": "code",
   "execution_count": 10,
   "id": "c31cb4ae-c009-4619-82c6-cd61e3748964",
   "metadata": {},
   "outputs": [],
   "source": [
    "!git remote add origin https://github.com/TU_USUARIO/TU_REPO.git"
   ]
  },
  {
   "cell_type": "code",
   "execution_count": null,
   "id": "50487d7e-f30c-420f-b597-442e5220979a",
   "metadata": {},
   "outputs": [],
   "source": []
  }
 ],
 "metadata": {
  "kernelspec": {
   "display_name": "Python 3 (ipykernel)",
   "language": "python",
   "name": "python3"
  },
  "language_info": {
   "codemirror_mode": {
    "name": "ipython",
    "version": 3
   },
   "file_extension": ".py",
   "mimetype": "text/x-python",
   "name": "python",
   "nbconvert_exporter": "python",
   "pygments_lexer": "ipython3",
   "version": "3.12.1"
  }
 },
 "nbformat": 4,
 "nbformat_minor": 5
}
